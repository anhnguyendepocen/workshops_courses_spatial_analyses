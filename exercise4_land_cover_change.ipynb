{
 "cells": [
  {
   "cell_type": "markdown",
   "metadata": {},
   "source": [
    "# Land Cover Change: Houston Urban Growth.\n",
    "\n",
    "## Introduction\n",
    "\n",
    "Houston is one of the fastest growing cities in the United States. Over the 1990-2016 period, Harris county (which includes Houston downtown) experienced a 67% increase in population. On the ground, this has led to a strong increase in developed land for urban use. As a geospatial analyst for the Harris County board, you are being asked to explore trends in the Houston Metropolitan area and examine past land change to understand future land development in the county. To complete the task, you will process land cover data from the National Land Cover Database (NLCD) and examine land change in the area. You will also generate a first exploratory land change model using logistic regression to examine proximate factors (variables) that have influenced past location of development. All work must be repeatable and documented in a scripting environment to be shared with your team.\n",
    "\n",
    "## Documentation and packages\n",
    "\n",
    "First, we set up the code by providing information on the Authors, Creation dates, version by importing relevant python packages. Documenting and providing context and information within a script is important as it is often the case that code will be reused for other applications or other users/colleagues Good documentation improves code reproducibility as well."
   ]
  },
  {
   "cell_type": "code",
   "execution_count": 39,
   "metadata": {},
   "outputs": [],
   "source": [
    "#################################### Land Use and Land Cover Change #######################################\n",
    "############################ Analyze Land Cover change in Houston #######################################\n",
    "#This script performs analyses for the Exercise 4 of the AAG Course using aggregated NLCD values.\n",
    "#The goal is to assess land cover change using two land cover maps in the Houston areas.\n",
    "#Additional datasets are provided for the land cover change modeling. A model is built for Harris county.\n",
    "#\n",
    "#AUTHORS: Benoit Parmentier\n",
    "#DATE CREATED: 01/07/2019\n",
    "#DATE MODIFIED: 04/05/2019\n",
    "#Version: 1\n",
    "#PROJECT: AAG 2019 Geospatial Short Course\n",
    "#TO DO:\n",
    "#\n",
    "#COMMIT: changes to modeling\n",
    "#\n",
    "#################################################################################################\n",
    "\n",
    "###### Library used in this script\n",
    "\n",
    "import gdal\n",
    "import numpy as np\n",
    "import matplotlib.pyplot as plt\n",
    "import matplotlib.cm as cm\n",
    "import matplotlib.colors as colors\n",
    "import seaborn as sns\n",
    "import rasterio\n",
    "import subprocess\n",
    "import pandas as pd\n",
    "import os, glob\n",
    "from rasterio import plot\n",
    "import geopandas as gpd\n",
    "import descartes\n",
    "import pysal as ps\n",
    "from cartopy import crs as ccrs\n",
    "from pyproj import Proj\n",
    "from osgeo import osr\n",
    "from shapely.geometry import Point\n",
    "from collections import OrderedDict\n",
    "import webcolors\n",
    "import copy\n",
    "from sklearn.preprocessing import OneHotEncoder\n",
    "from sklearn.preprocessing import LabelEncoder\n",
    "from numpy import array\n",
    "from sklearn.model_selection import train_test_split\n",
    "from sklearn.preprocessing import MinMaxScaler\n",
    "from sklearn.linear_model import LogisticRegression\n",
    "from sklearn.metrics import roc_auc_score\n",
    "from sklearn.metrics import roc_curve\n"
   ]
  },
  {
   "cell_type": "markdown",
   "metadata": {},
   "source": [
    "The list of packages above constains some of the most common packages used in geospatial data processing, wrangling and analyses. Notables spatial packages are \"geopandas\", \"rasterio\", \"pysal\", \"gdal\" and \"shapely\". Geopandas extends the \"pandas\" package to allow for the use of spatial data using a geometry column in a DataFrame object. It implements a version of the OGC Simple Feature model (https://www.opengeospatial.org/standards/sfa) using the \"shapely\" package to define the geometry of spatial objects. GDAL and Rasterio allow raster layers operations and processing including reprojection, distance compuation, mosaicing. The \"skitlearn\" package provides access to Machine Learning method in a unified API interface.. In this exercise, we use scikitlearn to model land cover change with a logistic regression.\n",
    "\n",
    "## Functions\n",
    "\n",
    "In the next part of the script, we declare all the functions used in the sripts. The first function builds an output directory. It is good practice to place functions at the beginning of a script or an external source file."
   ]
  },
  {
   "cell_type": "code",
   "execution_count": 40,
   "metadata": {},
   "outputs": [],
   "source": [
    "\n",
    "################ NOW FUNCTIONS  ###################\n",
    "\n",
    "##------------------\n",
    "# Functions used in the script \n",
    "##------------------\n",
    "\n",
    "def create_dir_and_check_existence(path):\n",
    "    #Create a new directory\n",
    "    try:\n",
    "        os.makedirs(path)\n",
    "    except:\n",
    "        print (\"directory already exists\")\n"
   ]
  },
  {
   "cell_type": "markdown",
   "metadata": {},
   "source": [
    "## Parameters and Arguments\n",
    "\n",
    "It is good practice to set all parameters and input arguments at the beginning of the script. This allows for better control and can make modifications of the scripts for other applications easier. Some arguments relate to path directories, input files and general parameters for use in the analyses (e.g. proportion of hold out)."
   ]
  },
  {
   "cell_type": "code",
   "execution_count": 41,
   "metadata": {},
   "outputs": [],
   "source": [
    "############################################################################\n",
    "#####  Parameters and argument set up ########### \n",
    "\n",
    "#ARGS 1\n",
    "#in_dir = \"/home/bparmentier/c_drive/Users/bparmentier/Data/python/Exercise_4/data\"\n",
    "in_dir = \"/nfs/public-data/training\"\n",
    "#ARGS 2\n",
    "#out_dir = \"/home/bparmentier/c_drive/Users/bparmentier/Data/python/Exercise_4/outputs\"\n",
    "out_dir = \"/research-home/bparmentier\"\n",
    "#ARGS 3:\n",
    "create_out_dir=True #create a new ouput dir if TRUE\n",
    "#ARGS 4\n",
    "out_suffix = \"exercise4_04052019\" #output suffix for the files and ouptut folder\n",
    "#ARGS 5\n",
    "NA_value = -9999 # number of cores\n",
    "#ARGS 6\n",
    "file_format = \".tif\"\n",
    "#ARGS 7\n",
    "#NLCD coordinate reference system: we will use this projection rather than TX.\n",
    "CRS_reg = \"+proj=aea +lat_1=29.5 +lat_2=45.5 +lat_0=23 +lon_0=-96 +x_0=0 +y_0=0 +ellps=GRS80 +towgs84=0,0,0,0,0,0,0 +units=m +no_defs\"\n",
    "#ARGS 8\n",
    "method_proj_val = \"bilinear\" # method option for the reprojection and resampling\n",
    "#ARGS 9\n",
    "gdal_installed = True #if TRUE, GDAL is used to generate distance files\n",
    "\t\t\n",
    "### Input data files\n",
    "#ARGS 10\n",
    "rastername_county_harris = \"harris_county_mask.tif\" #Region of interest: extent of Harris County\n",
    "#ARGS 11\n",
    "elevation_fname = \"srtm_Houston_area_90m.tif\" #SRTM elevation\n",
    "#ARGS 12\n",
    "roads_fname = \"r_roads_Harris.tif\" #Road count for Harris county\n",
    "\t\n",
    "### Aggreagate NLCD input files\n",
    " #ARGS 13\n",
    "infile_land_cover_date1 = \"agg_3_r_nlcd2001_Houston.tif\"\n",
    "#ARGS 14\n",
    "infile_land_cover_date2 = \"agg_3_r_nlcd2006_Houston.tif\"\n",
    "#ARGS 15\n",
    "infile_land_cover_date3 = \"agg_3_r_nlcd2011_Houston.tif\"\n",
    "#ARGS 16\t\n",
    "infile_name_nlcd_legend = \"nlcd_legend.txt\"\n",
    "#ARGS 17\n",
    "infile_name_nlcd_classification_system = \"classification_system_nlcd_legend.xlsx\"\n",
    "#ARGS 18\t\n",
    "data_fname = 'r_variables_harris_county_exercise4_02072019.txt'\n",
    "#ARGS 19\n",
    "prop = 0.3 #proportion of observations for hold-out/testing\n",
    "#ARGS 20\n",
    "random_seed = 100 #random seed for reproducibility"
   ]
  },
  {
   "cell_type": "markdown",
   "metadata": {},
   "source": [
    "## Input and output directories\n",
    "\n",
    "Before any analyses, we start the script by creating a new output directory to store new files generated througout the script. Separating inputs from outputs avoids overwriting or modifiying the input source files. It is likely that you will repeath the analyses multiples times and generating a new output directory with a date or version can also help in tracking modeling and analyses outputs with different input arguments. "
   ]
  },
  {
   "cell_type": "code",
   "execution_count": 42,
   "metadata": {},
   "outputs": [
    {
     "name": "stdout",
     "output_type": "stream",
     "text": [
      "directory already exists\n"
     ]
    }
   ],
   "source": [
    "################# START SCRIPT ###############################\n",
    "\n",
    "######### PART 0: Set up the output dir ################\n",
    "\n",
    "#set up the working directory\n",
    "#Create output directory\n",
    "\n",
    "if create_out_dir==True:\n",
    "    out_dir_new = \"output_data_\"+out_suffix\n",
    "    out_dir = os.path.join(out_dir,out_dir_new)\n",
    "    create_dir_and_check_existence(out_dir)\n",
    "    os.chdir(out_dir)        #set working directory\n",
    "else:\n",
    "    os.chdir(create_out_dir) #use working dir defined earlier\n"
   ]
  },
  {
   "cell_type": "markdown",
   "metadata": {},
   "source": [
    "## PART 1: Reading and visualizing data\n",
    "\n",
    "Part I consists in reading in raster files and displaying NLCD for 2001 and 2006. We use rasterio.open to create a raster object. Note that this object does not load all the raster pixels in memory but provides metadata on the images. This includes information on the number of rows and columns as well as the projection system."
   ]
  },
  {
   "cell_type": "code",
   "execution_count": 43,
   "metadata": {},
   "outputs": [
    {
     "name": "stdout",
     "output_type": "stream",
     "text": [
      "<class 'rasterio.io.DatasetReader'>\n",
      "Coordinate reference system:  PROJCS[\"unnamed\",GEOGCS[\"GRS 1980(IUGG, 1980)\",DATUM[\"unknown\",SPHEROID[\"GRS80\",6378137,298.257222101],TOWGS84[0,0,0,0,0,0,0]],PRIMEM[\"Greenwich\",0],UNIT[\"degree\",0.0174532925199433]],PROJECTION[\"Albers_Conic_Equal_Area\"],PARAMETER[\"standard_parallel_1\",29.5],PARAMETER[\"standard_parallel_2\",45.5],PARAMETER[\"latitude_of_center\",23],PARAMETER[\"longitude_of_center\",-96],PARAMETER[\"false_easting\",0],PARAMETER[\"false_northing\",0],UNIT[\"metre\",1,AUTHORITY[\"EPSG\",\"9001\"]]]\n",
      " Rows and columns:  (789, 965) number of rows:  789\n"
     ]
    },
    {
     "data": {
      "image/png": "[encoded data removed]",
      "text/plain": [
       "<Figure size 432x288 with 2 Axes>"
      ]
     },
     "metadata": {},
     "output_type": "display_data"
    }
   ],
   "source": [
    "###########################################\n",
    "###########################################\n",
    "### PART I: READ AND VISUALIZE DATA #######\n",
    "\t\n",
    "infile_land_cover_date1 = os.path.join(in_dir,infile_land_cover_date1) #NLCD 2001\n",
    "infile_land_cover_date2 = os.path.join(in_dir,infile_land_cover_date2) #NLCD 2006\n",
    "infile_land_cover_date3 = os.path.join(in_dir,infile_land_cover_date3) #NLCD 2011\n",
    "\n",
    "lc_date1 = rasterio.open(infile_land_cover_date1) \n",
    "r_lc_date1 = lc_date1.read(1,masked=True) #read first array with masked value, nan are assigned for NA\n",
    "lc_date2 = rasterio.open(infile_land_cover_date2) \n",
    "r_lc_date2 = lc_date2.read(1,masked=True) #read first array with masked value, nan are assigned for NA\n",
    "lc_date3= rasterio.open(infile_land_cover_date2) \n",
    "\n",
    "#Generate quick visualization using rasterio object\n",
    "f, ax = plt.subplots(1, 2)\n",
    "plot.show(lc_date1,title=\"NLCD 2001\",ax=ax[0])\n",
    "plot.show(lc_date2,title=\"NLCD 2006\",ax=ax[1])\n",
    "\n",
    "print(type(lc_date1))\n",
    "print(\"Coordinate reference system: \",lc_date1.crs ) \n",
    "      \n",
    "print(\" Rows and columns: \", lc_date1.shape, \"number of rows: \", lc_date1.height)  \n",
    "\n",
    "lc_legend_df = pd.read_csv(os.path.join(in_dir,infile_name_nlcd_legend),sep=\",\")\n",
    "lc_legend_df.head() # Inspect data\n",
    "lc_legend_df.columns\n",
    "lc_legend_df.shape\n",
    "#subset the data to remove unused rows\n",
    "lc_legend_df = lc_legend_df[lc_legend_df['COUNT']>0] \n"
   ]
  },
  {
   "cell_type": "markdown",
   "metadata": {},
   "source": [
    "## PART 2: Analyze overall changes and land transitions\n",
    "\n",
    "We analyze changes in the Houston area by comparing change in areas between the two dates (2001-2006). We can also examine the most common transitions between the land cover classes using crosstabulation. Before any analyses, we reclassifly the NLCD maps to simplify and generalizes the classes using NLCD Anderson level 1 classes.\n"
   ]
  },
  {
   "cell_type": "code",
   "execution_count": null,
   "metadata": {},
   "outputs": [],
   "source": [
    "#######\n",
    "################################################\n",
    "###  PART II : Analyze overall changes and land transitions\n",
    "\n",
    "## As the plot shows for 2006, we have 15 land cover types. Analyzing such complex categories in terms of decreasse (loss), increase (gain), \n",
    "## persistence in land cover will generate a large number of transitions (potential up to 15*15=225 transitions in this case!)\n",
    "## To generalize the information, let's aggregate leveraging the hierachical nature of NLCD Anderson Classification system.\n",
    "\n",
    "#### Step 1: aggregate NLCD classes\n",
    "\n",
    "# Read in classification system: Now 15 land categories instead of 20.\n",
    "\n",
    "lc_system_nlcd_df = pd.read_excel(os.path.join(in_dir,infile_name_nlcd_classification_system))\n",
    "lc_system_nlcd_df.head() #inspect data\n",
    "\n",
    "### Set up the reclassification\n",
    "class_def = np.array([0,20,1,\n",
    "                      20,30,2,\n",
    "                      30,40,3,\n",
    "                      40,50,4,\n",
    "                      50,60,5,\n",
    "                      60,70,6,\n",
    "                      70,80,7,\n",
    "                      80,90,8,\n",
    "                      90,100,9])\n",
    " \n",
    "class_def = class_def.reshape(9,3)\n",
    "\n",
    "## Generate copies of raster objects\n",
    "r_date1_rec = copy.copy(r_lc_date1)\n",
    "r_date2_rec = copy.copy(r_lc_date2)\n",
    "\n",
    "for i in np.arange(0,9):\n",
    "    class_val = class_def[i,:]\n",
    "    r_date1_rec[(class_val[0]<= r_date1_rec) & (r_date1_rec <class_val[1])] = class_val[2]\n",
    "    r_date2_rec[(class_val[0]<= r_date2_rec) & (r_date2_rec <class_val[1])] = class_val[2]\n",
    "\n",
    "f, ax = plt.subplots(1, 2)\n",
    "plot.show(r_date1_rec,title=\"NLCD 2001 reclassified\",ax=ax[0])\n",
    "plot.show(r_date2_rec,title=\"NLCD 2006 reclassified\",ax=ax[1])\n"
   ]
  },
  {
   "cell_type": "markdown",
   "metadata": {},
   "source": [
    "## Examine overall changes in categories\n",
    "\n",
    "We compute the frequency of each land cover classes for each NLCD map and generate a difference bewteen 2001 and 2006. We find that the most common change is an increase in urban areas. The largest decreases in the forest and herbaceous lands.\n"
   ]
  },
  {
   "cell_type": "code",
   "execution_count": null,
   "metadata": {},
   "outputs": [],
   "source": [
    "####### Step 2: Examine overall changes in categories\n",
    "\n",
    "val, cnts =np.unique(r_date1_rec,return_counts=True)\n",
    "df = pd.DataFrame(np.ma.filled(val))\n",
    "pd.set_option('display.float_format', lambda x: '%.3f' % x)\n",
    "df_date1 = pd.DataFrame(val,cnts)\n",
    "df_date1 = df_date1.reset_index()\n",
    "df_date1.columns = ['y_2001','value']\n",
    "\n",
    "val, cnts =np.unique(r_date2_rec,return_counts=True)\n",
    "df = pd.DataFrame(np.ma.filled(val))\n",
    "pd.set_option('display.float_format', lambda x: '%.3f' % x)\n",
    "df_date2 = pd.DataFrame(val,cnts)\n",
    "df_date2 = df_date2.reset_index()\n",
    "df_date2.columns = ['y_2006','value']\n",
    "\n",
    "### Let's identify existing cover and compute change:\n",
    "freq_tb_nlcd = pd.merge(df_date1,df_date2,on='value')\n",
    "#reorder columns \n",
    "freq_tb_nlcd = freq_tb_nlcd[['value','y_2001','y_2006']]\n",
    "freq_tb_nlcd['diff'] = freq_tb_nlcd['y_2006'] - freq_tb_nlcd['y_2001']\n",
    "## link to category names\n",
    "cat_val = lc_system_nlcd_df[['id_l1','name_l1']].drop_duplicates()\n",
    "\n",
    "freq_tb_nlcd = pd.merge(freq_tb_nlcd,\n",
    "                        cat_val,\n",
    "                        left_on='value',\n",
    "                        right_on='id_l1')\n",
    "freq_tb_nlcd\n",
    "\n",
    "## barplot\n",
    "sns.set(style=\"whitegrid\")\n",
    "#tips = ns.load_dataset(\"tips\")\n",
    "ax = sns.barplot(x=\"name_l1\", \n",
    "                     y=\"diff\", \n",
    "                     data=freq_tb_nlcd)\n",
    "ax.set_xticklabels(list(freq_tb_nlcd[\"name_l1\"]),rotation=30)\n"
   ]
  },
  {
   "cell_type": "markdown",
   "metadata": {},
   "source": [
    "## Method 2: Summarize using groupby aggregation and joining\n",
    "\n",
    "This method uses \"groupby\" to aggregation information by census track using a summary function. We use here \"sum\" to generate summary at the census track level. Note that the output of the gropuby operation is a pandas DataFrame. The output table is then join to the census track level geopanda DataFrame using the track ID as the primary key. Before joing the datasets, we must ensure that the datatypes of both keys match and change the column data type us \"astype\" if necessary. The join operation is carried out using the merge function. \n"
   ]
  },
  {
   "cell_type": "code",
   "execution_count": null,
   "metadata": {},
   "outputs": [],
   "source": [
    "##### Step 3: examine land transitions \n",
    "#### Crosstab\n",
    "\n",
    "data_rec = pd.DataFrame({'date1': r_date1_rec.ravel(),\n",
    "             'date2':"
   ]
  },
  {
   "cell_type": "code",
   "execution_count": null,
   "metadata": {},
   "outputs": [],
   "source": []
  },
  {
   "cell_type": "code",
   "execution_count": null,
   "metadata": {},
   "outputs": [],
   "source": []
  },
  {
   "cell_type": "code",
   "execution_count": null,
   "metadata": {},
   "outputs": [],
   "source": []
  },
  {
   "cell_type": "code",
   "execution_count": null,
   "metadata": {},
   "outputs": [],
   "source": [
    " r_date2_rec.ravel()})\n",
    "rec_xtab_df= pd.crosstab(data_rec['date1'],data_rec['date2'])\n",
    "\n",
    "#rec_xtab_df['class'] = rec_xtab_df.index\n",
    "rec_xtab_df.columns = ['1.0','2.0','3.0','4.0','5.0','7.0','8.0','9.0']\n",
    "rec_xtab_df.index = ['1.0','2.0','3.0','4.0','5.0','7.0','8.0','9.0']\n",
    "print(rec_xtab_df)\n",
    "\n",
    "rec_xtab_df.max() # diagonal is the max for all columns\n",
    "\n",
    "rec_xtab_df['2.0']\n",
    "\n",
    "## Look at transitions for class 2 (urban)\n",
    "## Most common is from 8 to 2\n",
    "## Planted cultived to urban\n",
    "## Second biggest is from FOrest (4) to 2"
   ]
  },
  {
   "cell_type": "markdown",
   "metadata": {},
   "source": [
    "## PART III: Process and prepare for land cover change modeling\n",
    "\n",
    "In this section, we read in the datasets that will be used in the logistic regression to predict urban change in Houston over the 2001-2006 time period. The variables were preprocessed and we extract values at every pixel location. The dataset includes the following relevant columns:\n",
    "- change: boolean, 1 for change to urban and 0 for no change \n",
    "- land cover: potential land categories for change, some categories may be mores suitable for urban conversion (e.g. forest etc.) \n",
    "- slope: slope value in degrees, lower slope is more suitable for new urban areas \n",
    "- road_dist: distance to existing roads\n",
    "- developed_dist: distance to existing urban areas (in 2001) \n"
   ]
  },
  {
   "cell_type": "code",
   "execution_count": null,
   "metadata": {},
   "outputs": [],
   "source": [
    "###########################################\n",
    "############# PART III: Process and prepare for land change modeling ####################\n",
    "## add this later\n",
    "\n",
    "### Let's read in the information that contains variables\n",
    "data_df = pd.read_csv(os.path.join(in_dir,data_fname))\n",
    "data_df.columns\n",
    "data_df.head()"
   ]
  },
  {
   "cell_type": "markdown",
   "metadata": {},
   "source": [
    "## PART 3: SPATIAL QUERY \n",
    "\n",
    "We generate a dataset with metals and lead information by census tracks.\n",
    "This requires multiple steps. First, we need to join metals attribute to census tracks. Second, we generate a spatial object from the textfile of lead (PB) data. This files contains x and y coordinates that can be used to create a POINT geometry column using the shapely and geopandas packages.\n",
    "The third step consists in joining the lead data to census tracks. This is done through a spatial join to associate point data with polygons identifiers containing them. The fourth step consists in using a summarize by operation (\"groupby\") to generate averages of lead ppm by census tracks.\n"
   ]
  },
  {
   "cell_type": "code",
   "execution_count": null,
   "metadata": {},
   "outputs": [],
   "source": [
    "################\n",
    "##### Step 1: Prepare categorical features/covariates by rescaling values\n",
    "\n",
    "## Relevant variables used:\n",
    "selected_covariates_names = ['land_cover', 'slope', 'roads_dist', 'developped_dist']\n",
    "selected_target_names = ['change'] #also called dependent variable\n",
    "\n",
    "## We need to account for categorical versus continuous variables\n",
    "selected_categorical_var_names=['land_cover']\n",
    "selected_continuous_var_names=list(set(selected_covariates_names) - set(selected_categorical_var_names))\n",
    "##Find frequency of unique values:\n",
    "freq_val_df = data_df[selected_categorical_var_names].apply(pd.value_counts)\n",
    "print(freq_val_df.head())\n",
    "values_cat = array(data_df[selected_categorical_var_names].values) #note this is assuming only one cat val here\n",
    "\n",
    "label_encoder = LabelEncoder()  # labeling categories\n",
    "one_hot_encoder = OneHotEncoder(sparse=False) #generate dummy variables\n",
    "### First integer encode:\n",
    "integer_encoded = label_encoder.fit_transform(values_cat)\n",
    "print(integer_encoded)\n",
    "# Binary encode:\n",
    "integer_encoded = integer_encoded.reshape(len(integer_encoded),1)\n",
    "print(integer_encoded)\n",
    "\n",
    "#33 generate dummy variables\n",
    "onehot_encoded = one_hot_encoder.fit_transform(integer_encoded)\n",
    "print(onehot_encoded)\n",
    "onehot_encoded.shape\n",
    "type(onehot_encoded)\n",
    "\n",
    "#Check values generated: invert to check value?\n",
    "onehot_encoded[0:5,]\n",
    "values_cat[0:5,]\n",
    "inverted = label_encoder.inverse_transform([np.argmax(onehot_encoded[1,:])])\n",
    "print(inverted)\n",
    "\n",
    "#assign back to the data.frame\n",
    "unique_val = np.array(freq_val_df.index)\n",
    "unique_val = np.sort(unique_val)\n",
    "print(unique_val)\n",
    "names_cat = ['lc_' + str(i) for i in unique_val]\n",
    "print(names_cat)\n",
    "onehot_encoded_df = pd.DataFrame(onehot_encoded,columns=names_cat)\n",
    "onehot_encoded_df.columns\n",
    "onehot_encoded_df.head()\n",
    "onehot_encoded_df.shape\n",
    "data_df.shape\n",
    "\n",
    "## Add the new encoded variables to the data frame\n",
    "data_df= pd.concat([data_df,onehot_encoded_df],sort=False,axis=1)\n",
    "data_df.shape\n",
    "data_df.head()\n",
    "\n",
    "selected_covariates_names_updated = selected_continuous_var_names + names_cat \n"
   ]
  },
  {
   "cell_type": "code",
   "execution_count": null,
   "metadata": {},
   "outputs": [],
   "source": [
    "##############\n",
    "## Step 2: Split training and testing and rescaling for continuous variables\n",
    "\n",
    "X_train, X_test, y_train, y_test = train_test_split(data_df[selected_covariates_names_updated], \n",
    "                                                    data_df[selected_target_names], \n",
    "                                                    test_size=prop, \n",
    "                                                    random_state=random_seed)\n",
    "X_train.shape\n",
    "X_train.head()\n"
   ]
  },
  {
   "cell_type": "code",
   "execution_count": null,
   "metadata": {},
   "outputs": [],
   "source": [
    "#### Scaling between 0-1 for continuous variables\n",
    "# Data needs to be scaled to a small range like 0 to 1 for the neural\n",
    "# network to work well.\n",
    "scaler = MinMaxScaler(feature_range=(0, 1))\n",
    "### need to select only the continuous var:\n",
    "scaled_training = scaler.fit_transform(X_train[selected_continuous_var_names])\n",
    "scaled_testing = scaler.transform(X_test[selected_continuous_var_names])\n",
    "type(scaled_training) # array\n",
    "scaled_training.shape\n",
    "\n",
    "## Concatenate column-wise\n",
    "X_testing_df = pd.DataFrame(np.concatenate((X_test[names_cat].values,scaled_testing),axis=1),\n",
    "                                            columns=names_cat+selected_continuous_var_names)\n",
    "\n",
    "X_training_df = pd.DataFrame(np.concatenate((X_train[names_cat].values,scaled_training),axis=1),\n",
    "                                            columns=names_cat+selected_continuous_var_names)\n",
    "X_training_df.head()\n"
   ]
  },
  {
   "cell_type": "markdown",
   "metadata": {},
   "source": [
    "## PART IV: Spatial regression: Vulnerability to metals \n",
    "\n",
    "In this section, we examine the relationship between lead and vulnerable populations in Syracuse using first a linear OLS regression and then a spatial lag regression model. Spatial datasets often contain autocorrelation and this must be taken into account when regression models are performed. In the first step, we explor the neighbor structure of the dataset using pysal objects.  In the econd step, we explore spatial autocorrelation using the Moran's I index.\n"
   ]
  },
  {
   "cell_type": "code",
   "execution_count": null,
   "metadata": {},
   "outputs": [],
   "source": [
    "###########################################\n",
    "### PART IV: Run model and perform assessment ###########################\n",
    "\n",
    "####################\n",
    "###### Step 1: fit glm logistic model and generate predictions\n",
    "\n",
    "model_logistic = LogisticRegression() #instantiate model object\n",
    "model_logistic = model_logistic.fit(X_train.values,y_train.values.ravel())\n",
    "\n",
    "print(\"model coefficients: \",model_logistic.coef_)\n",
    "selected_covariates_names_updated\n",
    "\n",
    "pred_test_prob = model_logistic.predict_proba(X_test.values)\n",
    "y_scores_test = pred_test_prob[:,1]\n",
    "pred_train_prob = model_logistic.predict_proba(X_train.values)\n",
    "y_scores_train = pred_train_prob[:,1]\n",
    "\n",
    "### Note that we only have about 10% change in the dataset so setting 50% does not make sense!!\n",
    "sum(data_df.change)/data_df.shape[0]\n",
    "sum(y_train.change)/y_train.shape[0]\n",
    "sns.set(color_codes=True) #improves layout with bar and background grid\n",
    "sns.countplot(x='change',data=data_df)\n",
    "plt.show()\n",
    "plt.savefig('count_plot')\n",
    "\n",
    "\n"
   ]
  },
  {
   "cell_type": "code",
   "execution_count": null,
   "metadata": {},
   "outputs": [],
   "source": [
    "# Explore values distribution\n",
    "f, ax = plt.subplots(1, 2)\n",
    "sns.distplot(y_scores_train,ax=ax[0])#title='January residuals')\n",
    "sns.distplot(y_scores_test,ax=ax[1])#title='January residuals')\n",
    "ax[0].set(title=\"Predicted training probabilities\") \n",
    "ax[1].set(title=\"Predicted testing probabilities\") \n"
   ]
  },
  {
   "cell_type": "code",
   "execution_count": null,
   "metadata": {},
   "outputs": [],
   "source": [
    "####################\n",
    "###### Step 2: Model assessment with ROC and AUC\n",
    "\n",
    "#Compute AUC\n",
    "auc_val_train =roc_auc_score(y_train,y_scores_train)\n",
    "auc_val_test =roc_auc_score(y_test,y_scores_test)\n",
    "\n",
    "print(\"AUC train: \", auc_val_train)\n",
    "print(\"AUC test: \", auc_val_test)\n",
    "\n",
    "#Generate inputs for ROC curves\n",
    "fpr, tpr, thresholds = roc_curve(y_test, \n",
    "                                 y_scores_test)\n",
    "plt.figure()\n",
    "plt.plot(fpr, tpr, \n",
    "         label='Logistic Regression (area = %0.2f)' % auc_val_test)\n",
    "plt.plot([0, 1], [0, 1],'r--')\n",
    "plt.xlim([0.0, 1.0])\n",
    "plt.ylim([0.0, 1.05])\n",
    "plt.xlabel('False Positive Rate')\n",
    "plt.ylabel('True Positive Rate')\n",
    "plt.title('Test ROC')\n",
    "plt.legend(loc=\"lower right\")\n",
    "plt.savefig('Log_ROC')\n",
    "plt.show()\n",
    "\n",
    "###################### END OF SCRIPT #####################"
   ]
  },
  {
   "cell_type": "markdown",
   "metadata": {},
   "source": [
    "## Conclusions\n",
    "\n",
    "In this study, we examined urban land cover change in Houston for the county of Harris. We reported on the general patterns of gains and losses in categories and found that urban change was the most important gain while forest and herbaceous surfaces showed the most important losses over the 2001-2006 time period. We found that these two categories were also the most common transition pathway to become urban. We used four explanatory variables to predict a change/no change boolean variable using the logistic model. The variables are commonly used in simple land cover change model and include distance to road, distance to existing urban, slope and land cover types. After rescaling coutinuous variables and generating dummy variables for the land cover types, we split training and testing data using a 30% hold out. Results were asssed using the ROC and AUC metrics. We found an 0.75 AUC for both training and testing."
   ]
  },
  {
   "cell_type": "markdown",
   "metadata": {},
   "source": [
    "## References\n",
    "\n",
    "PySAL: A Python Library of Spatial Analytical Methods, Rey, S.J. and L. Anselin, Review of Regional Studies 37, 5-27 2007.\n",
    "\n",
    "Moran, P. A. P. (1950). \"Notes on Continuous Stochastic Phenomena\". Biometrika. 37 (1): 17–23. doi:10.2307/2332142. JSTOR 2332142.\n",
    "\n",
    "Impacts of positional error on spatial regression analysis: a case study of address locations in Syracuse, New York. DA Griffith, M Millones, M Vincent, DL Johnson, A Hunt - Transactions in GIS, 2007\n",
    "\n",
    "Cliff and Ord (1981), Spatial Processes, London\n"
   ]
  }
 ],
 "metadata": {
  "kernelspec": {
   "display_name": "Python 3",
   "language": "python",
   "name": "python3"
  },
  "language_info": {
   "codemirror_mode": {
    "name": "ipython",
    "version": 3
   },
   "file_extension": ".py",
   "mimetype": "text/x-python",
   "name": "python",
   "nbconvert_exporter": "python",
   "pygments_lexer": "ipython3",
   "version": "3.5.2"
  }
 },
 "nbformat": 4,
 "nbformat_minor": 2
}
