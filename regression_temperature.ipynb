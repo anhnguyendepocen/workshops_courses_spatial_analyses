{
 "cells": [
  {
   "cell_type": "markdown",
   "metadata": {},
   "source": [
    "This notebook provides a quick exploration of regression using raster temperature and meteorological station.\n",
    "Check:\n",
    "https://stackoverflow.com/questions/45175201/how-can-i-interpolate-station-data-with-kriging-in-python"
   ]
  },
  {
   "cell_type": "code",
   "execution_count": null,
   "metadata": {},
   "outputs": [],
   "source": [
    "in_dir=\"/nfs/bparmentier-data/Data/workshop_spatial/climate_regression/data/Oregon_covariates\"\n",
    "out_dir=\"/nfs/bparmentier-data/Data/workshop_spatial/climate_regression/outputs\"\n"
   ]
  }
 ],
 "metadata": {
  "kernelspec": {
   "display_name": "Python 3",
   "language": "python",
   "name": "python3"
  },
  "language_info": {
   "codemirror_mode": {
    "name": "ipython",
    "version": 3
   },
   "file_extension": ".py",
   "mimetype": "text/x-python",
   "name": "python",
   "nbconvert_exporter": "python",
   "pygments_lexer": "ipython3",
   "version": "3.5.2"
  }
 },
 "nbformat": 4,
 "nbformat_minor": 2
}
